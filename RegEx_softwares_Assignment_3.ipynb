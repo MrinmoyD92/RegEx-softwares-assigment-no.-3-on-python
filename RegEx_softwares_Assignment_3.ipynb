{
  "nbformat": 4,
  "nbformat_minor": 0,
  "metadata": {
    "colab": {
      "name": "RegEx softwares - Assignment 3.ipynb",
      "provenance": []
    },
    "kernelspec": {
      "name": "python3",
      "display_name": "Python 3"
    },
    "language_info": {
      "name": "python"
    }
  },
  "cells": [
    {
      "cell_type": "markdown",
      "metadata": {
        "id": "FOSKPp2KNvoy"
      },
      "source": [
        "# Name: Mrinmoy M. Dutta\n",
        "\n",
        "Referral ID: SIRSS2103\n",
        "\n",
        "College: SIES college of Arts, Science and Commerce\n"
      ]
    },
    {
      "cell_type": "code",
      "metadata": {
        "colab": {
          "base_uri": "https://localhost:8080/"
        },
        "id": "CVgMYwXNQQhO",
        "outputId": "b1133efc-9ace-458c-a74d-8ee4d516a5c5"
      },
      "source": [
        "num = int(input('Please enter any number of your choice: '))\n",
        "def fibonacci_seq(f):\n",
        "  if f <= 0:\n",
        "    print('Please enter a positive integer.')\n",
        "  elif f == 1:\n",
        "    return 0\n",
        "  elif f == 2:\n",
        "    return 1\n",
        "  else:\n",
        "    return fibonacci_seq(f - 1) + fibonacci_seq(f - 2)\n",
        "\n",
        "answer = fibonacci_seq(num)\n",
        "print('The {0}th term of Fibonacci series is {1}'.format(num, answer))"
      ],
      "execution_count": null,
      "outputs": [
        {
          "output_type": "stream",
          "text": [
            "Please enter any number of your choice: 5\n",
            "The 5th term of Fibonacci series is 3\n"
          ],
          "name": "stdout"
        }
      ]
    },
    {
      "cell_type": "code",
      "metadata": {
        "colab": {
          "base_uri": "https://localhost:8080/"
        },
        "id": "TwSceLEBXGrl",
        "outputId": "dea672c0-5355-4263-a279-bd875b35f201"
      },
      "source": [
        "num_1 = int(input('Enter the first number: '))\n",
        "num_2 = int(input('Enter the second number: '))\n",
        "num_3 = min(num_1, num_2)\n",
        "result = 1\n",
        "for i in range(2, num_3 + 1):\n",
        "  if((num_1 % i == 0) and (num_2 % i == 0)):\n",
        "    result = i\n",
        "\n",
        "print('The GCD of {0} and {1} is {2}'.format(num_1, num_2, result))"
      ],
      "execution_count": null,
      "outputs": [
        {
          "output_type": "stream",
          "text": [
            "Enter the first number: 3\n",
            "Enter the second number: 6\n",
            "The GCD of 3 and 6 is 3\n"
          ],
          "name": "stdout"
        }
      ]
    },
    {
      "cell_type": "code",
      "metadata": {
        "colab": {
          "base_uri": "https://localhost:8080/"
        },
        "id": "OeXQ01YkYTwu",
        "outputId": "ed990e9d-21fb-4d1e-a45a-b0b56900f899"
      },
      "source": [
        "num_1 = int(input('Enter the first number: '))\n",
        "num_2 = int(input('Enter the second number: '))\n",
        "num_3 = max(num_1, num_2)\n",
        "while(True):\n",
        "  if((num_3 % num_1 == 0) and (num_3 % num_2 == 0)):\n",
        "    result = num_3\n",
        "    break\n",
        "  else:\n",
        "    num_3 = num_3 + 1\n",
        "\n",
        "print('The LCM of {0} and {1} is {2}'.format(num_1, num_2, result))"
      ],
      "execution_count": null,
      "outputs": [
        {
          "output_type": "stream",
          "text": [
            "Enter the first number: 30\n",
            "Enter the second number: 99\n",
            "The LCM of 30 and 99 is 990\n"
          ],
          "name": "stdout"
        }
      ]
    }
  ]
}